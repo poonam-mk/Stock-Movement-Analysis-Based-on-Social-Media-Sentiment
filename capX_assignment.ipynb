{
 "cells": [
  {
   "cell_type": "markdown",
   "id": "935ce4fc",
   "metadata": {},
   "source": [
    "# Stock Movement Analysis Based on Social Media Sentiment# "
   ]
  },
  {
   "cell_type": "code",
   "execution_count": 159,
   "id": "e51d7d32",
   "metadata": {},
   "outputs": [],
   "source": [
    "import pandas as pd\n",
    "import requests\n",
    "import praw\n",
    "\n",
    "from sklearn.feature_extraction.text import TfidfVectorizer\n",
    "from sklearn.linear_model import LogisticRegression\n",
    "from sklearn.ensemble import RandomForestClassifier\n",
    "\n",
    "from sklearn.metrics import accuracy_score, confusion_matrix\n",
    "from datetime import datetime, timedelta\n",
    "import pytz\n"
   ]
  },
  {
   "cell_type": "code",
   "execution_count": 160,
   "id": "3e80522a",
   "metadata": {},
   "outputs": [],
   "source": [
    "import seaborn as sns"
   ]
  },
  {
   "cell_type": "code",
   "execution_count": 161,
   "id": "6ccb6647",
   "metadata": {},
   "outputs": [],
   "source": [
    "import matplotlib.pyplot as plt\n",
    "from textblob import TextBlob\n",
    "import numpy as np\n",
    "from datetime import datetime, timedelta\n",
    "import re"
   ]
  },
  {
   "cell_type": "code",
   "execution_count": 162,
   "id": "7165287c",
   "metadata": {},
   "outputs": [
    {
     "name": "stderr",
     "output_type": "stream",
     "text": [
      "[nltk_data] Downloading package stopwords to\n",
      "[nltk_data]     C:\\Users\\Poonam\\AppData\\Roaming\\nltk_data...\n",
      "[nltk_data]   Package stopwords is already up-to-date!\n"
     ]
    }
   ],
   "source": [
    "from nltk.stem import PorterStemmer\n",
    "from nltk.corpus import stopwords\n",
    "import nltk\n",
    "nltk.download(\"stopwords\")\n",
    "\n",
    "# Initialize stemmer and stopwords\n",
    "port_stem = PorterStemmer()\n",
    "stowords = stopwords"
   ]
  },
  {
   "cell_type": "code",
   "execution_count": 163,
   "id": "33b9cd4a",
   "metadata": {},
   "outputs": [
    {
     "name": "stdout",
     "output_type": "stream",
     "text": [
      "['i', 'me', 'my', 'myself', 'we', 'our', 'ours', 'ourselves', 'you', \"you're\", \"you've\", \"you'll\", \"you'd\", 'your', 'yours', 'yourself', 'yourselves', 'he', 'him', 'his', 'himself', 'she', \"she's\", 'her', 'hers', 'herself', 'it', \"it's\", 'its', 'itself', 'they', 'them', 'their', 'theirs', 'themselves', 'what', 'which', 'who', 'whom', 'this', 'that', \"that'll\", 'these', 'those', 'am', 'is', 'are', 'was', 'were', 'be', 'been', 'being', 'have', 'has', 'had', 'having', 'do', 'does', 'did', 'doing', 'a', 'an', 'the', 'and', 'but', 'if', 'or', 'because', 'as', 'until', 'while', 'of', 'at', 'by', 'for', 'with', 'about', 'against', 'between', 'into', 'through', 'during', 'before', 'after', 'above', 'below', 'to', 'from', 'up', 'down', 'in', 'out', 'on', 'off', 'over', 'under', 'again', 'further', 'then', 'once', 'here', 'there', 'when', 'where', 'why', 'how', 'all', 'any', 'both', 'each', 'few', 'more', 'most', 'other', 'some', 'such', 'no', 'nor', 'not', 'only', 'own', 'same', 'so', 'than', 'too', 'very', 's', 't', 'can', 'will', 'just', 'don', \"don't\", 'should', \"should've\", 'now', 'd', 'll', 'm', 'o', 're', 've', 'y', 'ain', 'aren', \"aren't\", 'couldn', \"couldn't\", 'didn', \"didn't\", 'doesn', \"doesn't\", 'hadn', \"hadn't\", 'hasn', \"hasn't\", 'haven', \"haven't\", 'isn', \"isn't\", 'ma', 'mightn', \"mightn't\", 'mustn', \"mustn't\", 'needn', \"needn't\", 'shan', \"shan't\", 'shouldn', \"shouldn't\", 'wasn', \"wasn't\", 'weren', \"weren't\", 'won', \"won't\", 'wouldn', \"wouldn't\"]\n"
     ]
    }
   ],
   "source": [
    "print(stopwords.words('english'))"
   ]
  },
  {
   "cell_type": "code",
   "execution_count": 166,
   "id": "e370d628",
   "metadata": {},
   "outputs": [],
   "source": [
    "reddit = praw.Reddit(\n",
    "    user_agent=True,\n",
    "    client_id=\"\",\n",
    "    client_secret=\"\",\n",
    "    username=\"\"\n",
    ")"
   ]
  },
  {
   "cell_type": "markdown",
   "id": "8022d575",
   "metadata": {},
   "source": [
    "# fetching reddit data from subreddits related to stocks"
   ]
  },
  {
   "cell_type": "code",
   "execution_count": 167,
   "id": "e53f7748",
   "metadata": {},
   "outputs": [
    {
     "name": "stdout",
     "output_type": "stream",
     "text": [
      "Data scraped successfully!\n"
     ]
    },
    {
     "data": {
      "text/html": [
       "<div>\n",
       "<style scoped>\n",
       "    .dataframe tbody tr th:only-of-type {\n",
       "        vertical-align: middle;\n",
       "    }\n",
       "\n",
       "    .dataframe tbody tr th {\n",
       "        vertical-align: top;\n",
       "    }\n",
       "\n",
       "    .dataframe thead th {\n",
       "        text-align: right;\n",
       "    }\n",
       "</style>\n",
       "<table border=\"1\" class=\"dataframe\">\n",
       "  <thead>\n",
       "    <tr style=\"text-align: right;\">\n",
       "      <th></th>\n",
       "      <th>Date</th>\n",
       "      <th>score</th>\n",
       "      <th>Headline</th>\n",
       "    </tr>\n",
       "  </thead>\n",
       "  <tbody>\n",
       "    <tr>\n",
       "      <th>0</th>\n",
       "      <td>2024-12-01</td>\n",
       "      <td>12</td>\n",
       "      <td>rate portfolio rstock quarterli thread decemb</td>\n",
       "    </tr>\n",
       "    <tr>\n",
       "      <th>1</th>\n",
       "      <td>2024-12-07</td>\n",
       "      <td>3</td>\n",
       "      <td>rstock weekend discuss saturday dec</td>\n",
       "    </tr>\n",
       "    <tr>\n",
       "      <th>2</th>\n",
       "      <td>2024-12-07</td>\n",
       "      <td>67</td>\n",
       "      <td>take money</td>\n",
       "    </tr>\n",
       "    <tr>\n",
       "      <th>3</th>\n",
       "      <td>2024-12-07</td>\n",
       "      <td>54</td>\n",
       "      <td>portfolio wrap</td>\n",
       "    </tr>\n",
       "    <tr>\n",
       "      <th>4</th>\n",
       "      <td>2024-12-07</td>\n",
       "      <td>174</td>\n",
       "      <td>decad backtest insight chang invest</td>\n",
       "    </tr>\n",
       "  </tbody>\n",
       "</table>\n",
       "</div>"
      ],
      "text/plain": [
       "         Date  score                                       Headline\n",
       "0  2024-12-01     12  rate portfolio rstock quarterli thread decemb\n",
       "1  2024-12-07      3            rstock weekend discuss saturday dec\n",
       "2  2024-12-07     67                                     take money\n",
       "3  2024-12-07     54                                 portfolio wrap\n",
       "4  2024-12-07    174            decad backtest insight chang invest"
      ]
     },
     "execution_count": 167,
     "metadata": {},
     "output_type": "execute_result"
    }
   ],
   "source": [
    "subreddit1 = reddit.subreddit(\"stocks\")\n",
    "subreddit2 = reddit.subreddit(\"IndianStockMarket\")\n",
    "subreddit3 = reddit.subreddit(\"StockMarket\")\n",
    "subreddit4 = reddit.subreddit(\"finance\")\n",
    "subreddit5 = reddit.subreddit(\"IndianInvestment\")\n",
    "subreddit6 = reddit.subreddit(\"StockMarketIndia\")\n",
    "\n",
    "# Function to clean text\n",
    "def clean_text(text):\n",
    "    text = re.sub(r\"http\\S+\", \"\", text)  # Remove URLs\n",
    "    text = re.sub(r\"[^a-zA-Z\\s]\", \"\", text)  # Remove special characters\n",
    "    text = text.lower()\n",
    "    text=text.split()\n",
    "    text=[port_stem.stem(word) for word in text if not word in stopwords.words('english')]\n",
    "    text=' '.join(text)\n",
    "      # Convert to lowercase\n",
    "    return text\n",
    "\n",
    "# Scrape posts\n",
    "posts = []\n",
    "subreddits = [subreddit1, subreddit2, subreddit3, subreddit4, subreddit5, subreddit6]\n",
    "for subreddit in subreddits:\n",
    "    for post in subreddit.hot(limit=10000):  # 700 per subreddit to reach ~2000\n",
    "        post_data = {\n",
    "            \"Date\": datetime.utcfromtimestamp(post.created_utc).strftime('%Y-%m-%d'),\n",
    "            \"score\": post.score,\n",
    "            \"Headline\": clean_text(post.title)\n",
    "        }\n",
    "        posts.append(post_data)\n",
    "\n",
    "# Create DataFrame\n",
    "df = pd.DataFrame(posts)\n",
    "print(\"Data scraped successfully!\")\n",
    "\n",
    "# Save to CSV\n",
    "df.to_csv('reddit_posts.csv', index=False)\n",
    "\n",
    "# Preview DataFrame\n",
    "df.head()"
   ]
  },
  {
   "cell_type": "code",
   "execution_count": 168,
   "id": "3105531c",
   "metadata": {},
   "outputs": [
    {
     "data": {
      "text/html": [
       "<div>\n",
       "<style scoped>\n",
       "    .dataframe tbody tr th:only-of-type {\n",
       "        vertical-align: middle;\n",
       "    }\n",
       "\n",
       "    .dataframe tbody tr th {\n",
       "        vertical-align: top;\n",
       "    }\n",
       "\n",
       "    .dataframe thead th {\n",
       "        text-align: right;\n",
       "    }\n",
       "</style>\n",
       "<table border=\"1\" class=\"dataframe\">\n",
       "  <thead>\n",
       "    <tr style=\"text-align: right;\">\n",
       "      <th></th>\n",
       "      <th>Date</th>\n",
       "      <th>score</th>\n",
       "      <th>Headline</th>\n",
       "    </tr>\n",
       "  </thead>\n",
       "  <tbody>\n",
       "    <tr>\n",
       "      <th>0</th>\n",
       "      <td>2024-12-01</td>\n",
       "      <td>12</td>\n",
       "      <td>rate portfolio rstock quarterli thread decemb</td>\n",
       "    </tr>\n",
       "    <tr>\n",
       "      <th>1</th>\n",
       "      <td>2024-12-07</td>\n",
       "      <td>3</td>\n",
       "      <td>rstock weekend discuss saturday dec</td>\n",
       "    </tr>\n",
       "    <tr>\n",
       "      <th>2</th>\n",
       "      <td>2024-12-07</td>\n",
       "      <td>67</td>\n",
       "      <td>take money</td>\n",
       "    </tr>\n",
       "    <tr>\n",
       "      <th>3</th>\n",
       "      <td>2024-12-07</td>\n",
       "      <td>54</td>\n",
       "      <td>portfolio wrap</td>\n",
       "    </tr>\n",
       "    <tr>\n",
       "      <th>4</th>\n",
       "      <td>2024-12-07</td>\n",
       "      <td>174</td>\n",
       "      <td>decad backtest insight chang invest</td>\n",
       "    </tr>\n",
       "    <tr>\n",
       "      <th>...</th>\n",
       "      <td>...</td>\n",
       "      <td>...</td>\n",
       "      <td>...</td>\n",
       "    </tr>\n",
       "    <tr>\n",
       "      <th>2494</th>\n",
       "      <td>2024-11-14</td>\n",
       "      <td>0</td>\n",
       "      <td>loss swiggi intraday normal capit suck downani...</td>\n",
       "    </tr>\n",
       "    <tr>\n",
       "      <th>2495</th>\n",
       "      <td>2024-11-14</td>\n",
       "      <td>1</td>\n",
       "      <td>anyon know smart money concept</td>\n",
       "    </tr>\n",
       "    <tr>\n",
       "      <th>2496</th>\n",
       "      <td>2024-11-14</td>\n",
       "      <td>2</td>\n",
       "      <td>jubil industri ltd aka jublind</td>\n",
       "    </tr>\n",
       "    <tr>\n",
       "      <th>2497</th>\n",
       "      <td>2024-11-14</td>\n",
       "      <td>0</td>\n",
       "      <td>detail analysi nifti basi demand suppli</td>\n",
       "    </tr>\n",
       "    <tr>\n",
       "      <th>2498</th>\n",
       "      <td>2024-11-14</td>\n",
       "      <td>0</td>\n",
       "      <td>stock select</td>\n",
       "    </tr>\n",
       "  </tbody>\n",
       "</table>\n",
       "<p>2499 rows × 3 columns</p>\n",
       "</div>"
      ],
      "text/plain": [
       "            Date  score                                           Headline\n",
       "0     2024-12-01     12      rate portfolio rstock quarterli thread decemb\n",
       "1     2024-12-07      3                rstock weekend discuss saturday dec\n",
       "2     2024-12-07     67                                         take money\n",
       "3     2024-12-07     54                                     portfolio wrap\n",
       "4     2024-12-07    174                decad backtest insight chang invest\n",
       "...          ...    ...                                                ...\n",
       "2494  2024-11-14      0  loss swiggi intraday normal capit suck downani...\n",
       "2495  2024-11-14      1                     anyon know smart money concept\n",
       "2496  2024-11-14      2                     jubil industri ltd aka jublind\n",
       "2497  2024-11-14      0            detail analysi nifti basi demand suppli\n",
       "2498  2024-11-14      0                                       stock select\n",
       "\n",
       "[2499 rows x 3 columns]"
      ]
     },
     "execution_count": 168,
     "metadata": {},
     "output_type": "execute_result"
    }
   ],
   "source": [
    "df"
   ]
  },
  {
   "cell_type": "markdown",
   "id": "412bb8ee",
   "metadata": {},
   "source": [
    "# Download Nestlé stock data from the Swiss Exchange (NESN.SW)"
   ]
  },
  {
   "cell_type": "code",
   "execution_count": 169,
   "id": "54664a54",
   "metadata": {},
   "outputs": [
    {
     "name": "stderr",
     "output_type": "stream",
     "text": [
      "[*********************100%***********************]  1 of 1 completed"
     ]
    },
    {
     "name": "stdout",
     "output_type": "stream",
     "text": [
      "Price       Adj Close      Close       High        Low       Open   Volume\n",
      "Ticker        NESN.SW    NESN.SW    NESN.SW    NESN.SW    NESN.SW  NESN.SW\n",
      "Date                                                                      \n",
      "2024-08-02  89.400002  89.400002  90.760002  88.419998  88.959999  6111491\n",
      "2024-08-05  87.279999  87.279999  89.400002  87.019997  88.440002  5056459\n",
      "2024-08-06  87.519997  87.519997  88.080002  86.139999  86.879997  4854966\n",
      "2024-08-07  89.279999  89.279999  89.339996  86.459999  86.540001  3370346\n",
      "2024-08-08  89.139999  89.139999  89.599998  88.080002  89.459999  3061608\n"
     ]
    },
    {
     "name": "stderr",
     "output_type": "stream",
     "text": [
      "\n"
     ]
    }
   ],
   "source": [
    "import yfinance as yf\n",
    "\n",
    "\n",
    "stock_data = yf.download(\"NESN.SW\", start=\"2024-08-01\", end=\"2024-12-05\")\n",
    "stock_data.to_csv('stock_data.csv', index=False)\n",
    "# Preview the data\n",
    "print(stock_data.head())\n",
    "\n",
    "\n"
   ]
  },
  {
   "cell_type": "code",
   "execution_count": 170,
   "id": "d122f64f",
   "metadata": {},
   "outputs": [
    {
     "data": {
      "text/html": [
       "<div>\n",
       "<style scoped>\n",
       "    .dataframe tbody tr th:only-of-type {\n",
       "        vertical-align: middle;\n",
       "    }\n",
       "\n",
       "    .dataframe tbody tr th {\n",
       "        vertical-align: top;\n",
       "    }\n",
       "\n",
       "    .dataframe thead tr th {\n",
       "        text-align: left;\n",
       "    }\n",
       "\n",
       "    .dataframe thead tr:last-of-type th {\n",
       "        text-align: right;\n",
       "    }\n",
       "</style>\n",
       "<table border=\"1\" class=\"dataframe\">\n",
       "  <thead>\n",
       "    <tr>\n",
       "      <th>Price</th>\n",
       "      <th>Adj Close</th>\n",
       "      <th>Close</th>\n",
       "      <th>High</th>\n",
       "      <th>Low</th>\n",
       "      <th>Open</th>\n",
       "      <th>Volume</th>\n",
       "    </tr>\n",
       "    <tr>\n",
       "      <th>Ticker</th>\n",
       "      <th>NESN.SW</th>\n",
       "      <th>NESN.SW</th>\n",
       "      <th>NESN.SW</th>\n",
       "      <th>NESN.SW</th>\n",
       "      <th>NESN.SW</th>\n",
       "      <th>NESN.SW</th>\n",
       "    </tr>\n",
       "    <tr>\n",
       "      <th>Date</th>\n",
       "      <th></th>\n",
       "      <th></th>\n",
       "      <th></th>\n",
       "      <th></th>\n",
       "      <th></th>\n",
       "      <th></th>\n",
       "    </tr>\n",
       "  </thead>\n",
       "  <tbody>\n",
       "    <tr>\n",
       "      <th>2024-08-02</th>\n",
       "      <td>89.400002</td>\n",
       "      <td>89.400002</td>\n",
       "      <td>90.760002</td>\n",
       "      <td>88.419998</td>\n",
       "      <td>88.959999</td>\n",
       "      <td>6111491</td>\n",
       "    </tr>\n",
       "    <tr>\n",
       "      <th>2024-08-05</th>\n",
       "      <td>87.279999</td>\n",
       "      <td>87.279999</td>\n",
       "      <td>89.400002</td>\n",
       "      <td>87.019997</td>\n",
       "      <td>88.440002</td>\n",
       "      <td>5056459</td>\n",
       "    </tr>\n",
       "    <tr>\n",
       "      <th>2024-08-06</th>\n",
       "      <td>87.519997</td>\n",
       "      <td>87.519997</td>\n",
       "      <td>88.080002</td>\n",
       "      <td>86.139999</td>\n",
       "      <td>86.879997</td>\n",
       "      <td>4854966</td>\n",
       "    </tr>\n",
       "    <tr>\n",
       "      <th>2024-08-07</th>\n",
       "      <td>89.279999</td>\n",
       "      <td>89.279999</td>\n",
       "      <td>89.339996</td>\n",
       "      <td>86.459999</td>\n",
       "      <td>86.540001</td>\n",
       "      <td>3370346</td>\n",
       "    </tr>\n",
       "    <tr>\n",
       "      <th>2024-08-08</th>\n",
       "      <td>89.139999</td>\n",
       "      <td>89.139999</td>\n",
       "      <td>89.599998</td>\n",
       "      <td>88.080002</td>\n",
       "      <td>89.459999</td>\n",
       "      <td>3061608</td>\n",
       "    </tr>\n",
       "    <tr>\n",
       "      <th>...</th>\n",
       "      <td>...</td>\n",
       "      <td>...</td>\n",
       "      <td>...</td>\n",
       "      <td>...</td>\n",
       "      <td>...</td>\n",
       "      <td>...</td>\n",
       "    </tr>\n",
       "    <tr>\n",
       "      <th>2024-11-28</th>\n",
       "      <td>76.639999</td>\n",
       "      <td>76.639999</td>\n",
       "      <td>76.779999</td>\n",
       "      <td>75.940002</td>\n",
       "      <td>76.019997</td>\n",
       "      <td>4095385</td>\n",
       "    </tr>\n",
       "    <tr>\n",
       "      <th>2024-11-29</th>\n",
       "      <td>76.480003</td>\n",
       "      <td>76.480003</td>\n",
       "      <td>76.480003</td>\n",
       "      <td>75.760002</td>\n",
       "      <td>76.379997</td>\n",
       "      <td>4561408</td>\n",
       "    </tr>\n",
       "    <tr>\n",
       "      <th>2024-12-02</th>\n",
       "      <td>76.599998</td>\n",
       "      <td>76.599998</td>\n",
       "      <td>77.139999</td>\n",
       "      <td>76.139999</td>\n",
       "      <td>76.279999</td>\n",
       "      <td>3788734</td>\n",
       "    </tr>\n",
       "    <tr>\n",
       "      <th>2024-12-03</th>\n",
       "      <td>76.599998</td>\n",
       "      <td>76.599998</td>\n",
       "      <td>76.959999</td>\n",
       "      <td>76.199997</td>\n",
       "      <td>76.860001</td>\n",
       "      <td>4439740</td>\n",
       "    </tr>\n",
       "    <tr>\n",
       "      <th>2024-12-04</th>\n",
       "      <td>76.360001</td>\n",
       "      <td>76.360001</td>\n",
       "      <td>76.680000</td>\n",
       "      <td>76.059998</td>\n",
       "      <td>76.339996</td>\n",
       "      <td>3908643</td>\n",
       "    </tr>\n",
       "  </tbody>\n",
       "</table>\n",
       "<p>89 rows × 6 columns</p>\n",
       "</div>"
      ],
      "text/plain": [
       "Price       Adj Close      Close       High        Low       Open   Volume\n",
       "Ticker        NESN.SW    NESN.SW    NESN.SW    NESN.SW    NESN.SW  NESN.SW\n",
       "Date                                                                      \n",
       "2024-08-02  89.400002  89.400002  90.760002  88.419998  88.959999  6111491\n",
       "2024-08-05  87.279999  87.279999  89.400002  87.019997  88.440002  5056459\n",
       "2024-08-06  87.519997  87.519997  88.080002  86.139999  86.879997  4854966\n",
       "2024-08-07  89.279999  89.279999  89.339996  86.459999  86.540001  3370346\n",
       "2024-08-08  89.139999  89.139999  89.599998  88.080002  89.459999  3061608\n",
       "...               ...        ...        ...        ...        ...      ...\n",
       "2024-11-28  76.639999  76.639999  76.779999  75.940002  76.019997  4095385\n",
       "2024-11-29  76.480003  76.480003  76.480003  75.760002  76.379997  4561408\n",
       "2024-12-02  76.599998  76.599998  77.139999  76.139999  76.279999  3788734\n",
       "2024-12-03  76.599998  76.599998  76.959999  76.199997  76.860001  4439740\n",
       "2024-12-04  76.360001  76.360001  76.680000  76.059998  76.339996  3908643\n",
       "\n",
       "[89 rows x 6 columns]"
      ]
     },
     "execution_count": 170,
     "metadata": {},
     "output_type": "execute_result"
    }
   ],
   "source": [
    "stock_data"
   ]
  },
  {
   "cell_type": "code",
   "execution_count": 171,
   "id": "2bffc258",
   "metadata": {},
   "outputs": [],
   "source": [
    "stock_data.columns = ['_'.join(filter(None, col)).strip() for col in stock_data.columns]"
   ]
  },
  {
   "cell_type": "code",
   "execution_count": 172,
   "id": "aaecb247",
   "metadata": {},
   "outputs": [
    {
     "data": {
      "text/html": [
       "<div>\n",
       "<style scoped>\n",
       "    .dataframe tbody tr th:only-of-type {\n",
       "        vertical-align: middle;\n",
       "    }\n",
       "\n",
       "    .dataframe tbody tr th {\n",
       "        vertical-align: top;\n",
       "    }\n",
       "\n",
       "    .dataframe thead th {\n",
       "        text-align: right;\n",
       "    }\n",
       "</style>\n",
       "<table border=\"1\" class=\"dataframe\">\n",
       "  <thead>\n",
       "    <tr style=\"text-align: right;\">\n",
       "      <th></th>\n",
       "      <th>Adj Close_NESN.SW</th>\n",
       "      <th>Close_NESN.SW</th>\n",
       "      <th>High_NESN.SW</th>\n",
       "      <th>Low_NESN.SW</th>\n",
       "      <th>Open_NESN.SW</th>\n",
       "      <th>Volume_NESN.SW</th>\n",
       "    </tr>\n",
       "    <tr>\n",
       "      <th>Date</th>\n",
       "      <th></th>\n",
       "      <th></th>\n",
       "      <th></th>\n",
       "      <th></th>\n",
       "      <th></th>\n",
       "      <th></th>\n",
       "    </tr>\n",
       "  </thead>\n",
       "  <tbody>\n",
       "    <tr>\n",
       "      <th>2024-08-02</th>\n",
       "      <td>89.400002</td>\n",
       "      <td>89.400002</td>\n",
       "      <td>90.760002</td>\n",
       "      <td>88.419998</td>\n",
       "      <td>88.959999</td>\n",
       "      <td>6111491</td>\n",
       "    </tr>\n",
       "    <tr>\n",
       "      <th>2024-08-05</th>\n",
       "      <td>87.279999</td>\n",
       "      <td>87.279999</td>\n",
       "      <td>89.400002</td>\n",
       "      <td>87.019997</td>\n",
       "      <td>88.440002</td>\n",
       "      <td>5056459</td>\n",
       "    </tr>\n",
       "    <tr>\n",
       "      <th>2024-08-06</th>\n",
       "      <td>87.519997</td>\n",
       "      <td>87.519997</td>\n",
       "      <td>88.080002</td>\n",
       "      <td>86.139999</td>\n",
       "      <td>86.879997</td>\n",
       "      <td>4854966</td>\n",
       "    </tr>\n",
       "    <tr>\n",
       "      <th>2024-08-07</th>\n",
       "      <td>89.279999</td>\n",
       "      <td>89.279999</td>\n",
       "      <td>89.339996</td>\n",
       "      <td>86.459999</td>\n",
       "      <td>86.540001</td>\n",
       "      <td>3370346</td>\n",
       "    </tr>\n",
       "    <tr>\n",
       "      <th>2024-08-08</th>\n",
       "      <td>89.139999</td>\n",
       "      <td>89.139999</td>\n",
       "      <td>89.599998</td>\n",
       "      <td>88.080002</td>\n",
       "      <td>89.459999</td>\n",
       "      <td>3061608</td>\n",
       "    </tr>\n",
       "    <tr>\n",
       "      <th>...</th>\n",
       "      <td>...</td>\n",
       "      <td>...</td>\n",
       "      <td>...</td>\n",
       "      <td>...</td>\n",
       "      <td>...</td>\n",
       "      <td>...</td>\n",
       "    </tr>\n",
       "    <tr>\n",
       "      <th>2024-11-28</th>\n",
       "      <td>76.639999</td>\n",
       "      <td>76.639999</td>\n",
       "      <td>76.779999</td>\n",
       "      <td>75.940002</td>\n",
       "      <td>76.019997</td>\n",
       "      <td>4095385</td>\n",
       "    </tr>\n",
       "    <tr>\n",
       "      <th>2024-11-29</th>\n",
       "      <td>76.480003</td>\n",
       "      <td>76.480003</td>\n",
       "      <td>76.480003</td>\n",
       "      <td>75.760002</td>\n",
       "      <td>76.379997</td>\n",
       "      <td>4561408</td>\n",
       "    </tr>\n",
       "    <tr>\n",
       "      <th>2024-12-02</th>\n",
       "      <td>76.599998</td>\n",
       "      <td>76.599998</td>\n",
       "      <td>77.139999</td>\n",
       "      <td>76.139999</td>\n",
       "      <td>76.279999</td>\n",
       "      <td>3788734</td>\n",
       "    </tr>\n",
       "    <tr>\n",
       "      <th>2024-12-03</th>\n",
       "      <td>76.599998</td>\n",
       "      <td>76.599998</td>\n",
       "      <td>76.959999</td>\n",
       "      <td>76.199997</td>\n",
       "      <td>76.860001</td>\n",
       "      <td>4439740</td>\n",
       "    </tr>\n",
       "    <tr>\n",
       "      <th>2024-12-04</th>\n",
       "      <td>76.360001</td>\n",
       "      <td>76.360001</td>\n",
       "      <td>76.680000</td>\n",
       "      <td>76.059998</td>\n",
       "      <td>76.339996</td>\n",
       "      <td>3908643</td>\n",
       "    </tr>\n",
       "  </tbody>\n",
       "</table>\n",
       "<p>89 rows × 6 columns</p>\n",
       "</div>"
      ],
      "text/plain": [
       "            Adj Close_NESN.SW  Close_NESN.SW  High_NESN.SW  Low_NESN.SW  \\\n",
       "Date                                                                      \n",
       "2024-08-02          89.400002      89.400002     90.760002    88.419998   \n",
       "2024-08-05          87.279999      87.279999     89.400002    87.019997   \n",
       "2024-08-06          87.519997      87.519997     88.080002    86.139999   \n",
       "2024-08-07          89.279999      89.279999     89.339996    86.459999   \n",
       "2024-08-08          89.139999      89.139999     89.599998    88.080002   \n",
       "...                       ...            ...           ...          ...   \n",
       "2024-11-28          76.639999      76.639999     76.779999    75.940002   \n",
       "2024-11-29          76.480003      76.480003     76.480003    75.760002   \n",
       "2024-12-02          76.599998      76.599998     77.139999    76.139999   \n",
       "2024-12-03          76.599998      76.599998     76.959999    76.199997   \n",
       "2024-12-04          76.360001      76.360001     76.680000    76.059998   \n",
       "\n",
       "            Open_NESN.SW  Volume_NESN.SW  \n",
       "Date                                      \n",
       "2024-08-02     88.959999         6111491  \n",
       "2024-08-05     88.440002         5056459  \n",
       "2024-08-06     86.879997         4854966  \n",
       "2024-08-07     86.540001         3370346  \n",
       "2024-08-08     89.459999         3061608  \n",
       "...                  ...             ...  \n",
       "2024-11-28     76.019997         4095385  \n",
       "2024-11-29     76.379997         4561408  \n",
       "2024-12-02     76.279999         3788734  \n",
       "2024-12-03     76.860001         4439740  \n",
       "2024-12-04     76.339996         3908643  \n",
       "\n",
       "[89 rows x 6 columns]"
      ]
     },
     "execution_count": 172,
     "metadata": {},
     "output_type": "execute_result"
    }
   ],
   "source": [
    "stock_data"
   ]
  },
  {
   "cell_type": "code",
   "execution_count": 173,
   "id": "b83650d5",
   "metadata": {},
   "outputs": [],
   "source": [
    "df['Sentiment'] = np.random.randint(0, 2, size=len(df))"
   ]
  },
  {
   "cell_type": "code",
   "execution_count": 175,
   "id": "56f29ba9",
   "metadata": {},
   "outputs": [],
   "source": [
    "df['Date'] = pd.to_datetime(df['Date'])\n"
   ]
  },
  {
   "cell_type": "markdown",
   "id": "61fd6134",
   "metadata": {},
   "source": [
    "# merge stock data with reddit data"
   ]
  },
  {
   "cell_type": "code",
   "execution_count": 176,
   "id": "10b3e0f9",
   "metadata": {},
   "outputs": [],
   "source": [
    "merged_data = pd.merge(df, stock_data, on='Date', how='inner')\n",
    "merged_data.to_csv(\"merge_data.csv\")"
   ]
  },
  {
   "cell_type": "code",
   "execution_count": 177,
   "id": "82cd08b6",
   "metadata": {},
   "outputs": [
    {
     "data": {
      "text/html": [
       "<div>\n",
       "<style scoped>\n",
       "    .dataframe tbody tr th:only-of-type {\n",
       "        vertical-align: middle;\n",
       "    }\n",
       "\n",
       "    .dataframe tbody tr th {\n",
       "        vertical-align: top;\n",
       "    }\n",
       "\n",
       "    .dataframe thead th {\n",
       "        text-align: right;\n",
       "    }\n",
       "</style>\n",
       "<table border=\"1\" class=\"dataframe\">\n",
       "  <thead>\n",
       "    <tr style=\"text-align: right;\">\n",
       "      <th></th>\n",
       "      <th>Date</th>\n",
       "      <th>score</th>\n",
       "      <th>Headline</th>\n",
       "      <th>Sentiment</th>\n",
       "      <th>Adj Close_NESN.SW</th>\n",
       "      <th>Close_NESN.SW</th>\n",
       "      <th>High_NESN.SW</th>\n",
       "      <th>Low_NESN.SW</th>\n",
       "      <th>Open_NESN.SW</th>\n",
       "      <th>Volume_NESN.SW</th>\n",
       "    </tr>\n",
       "  </thead>\n",
       "  <tbody>\n",
       "    <tr>\n",
       "      <th>0</th>\n",
       "      <td>2024-12-04</td>\n",
       "      <td>304</td>\n",
       "      <td>meta announc billion data center louisiana</td>\n",
       "      <td>1</td>\n",
       "      <td>76.360001</td>\n",
       "      <td>76.360001</td>\n",
       "      <td>76.680000</td>\n",
       "      <td>76.059998</td>\n",
       "      <td>76.339996</td>\n",
       "      <td>3908643</td>\n",
       "    </tr>\n",
       "    <tr>\n",
       "      <th>1</th>\n",
       "      <td>2024-12-04</td>\n",
       "      <td>316</td>\n",
       "      <td>guy believ begin great melt recess come somewh...</td>\n",
       "      <td>0</td>\n",
       "      <td>76.360001</td>\n",
       "      <td>76.360001</td>\n",
       "      <td>76.680000</td>\n",
       "      <td>76.059998</td>\n",
       "      <td>76.339996</td>\n",
       "      <td>3908643</td>\n",
       "    </tr>\n",
       "    <tr>\n",
       "      <th>2</th>\n",
       "      <td>2024-12-04</td>\n",
       "      <td>124</td>\n",
       "      <td>intel ceo shakeup put foundri plan chip act ca...</td>\n",
       "      <td>1</td>\n",
       "      <td>76.360001</td>\n",
       "      <td>76.360001</td>\n",
       "      <td>76.680000</td>\n",
       "      <td>76.059998</td>\n",
       "      <td>76.339996</td>\n",
       "      <td>3908643</td>\n",
       "    </tr>\n",
       "    <tr>\n",
       "      <th>3</th>\n",
       "      <td>2024-12-04</td>\n",
       "      <td>208</td>\n",
       "      <td>amazon su dc attorney gener allegedli exclud n...</td>\n",
       "      <td>1</td>\n",
       "      <td>76.360001</td>\n",
       "      <td>76.360001</td>\n",
       "      <td>76.680000</td>\n",
       "      <td>76.059998</td>\n",
       "      <td>76.339996</td>\n",
       "      <td>3908643</td>\n",
       "    </tr>\n",
       "    <tr>\n",
       "      <th>4</th>\n",
       "      <td>2024-12-04</td>\n",
       "      <td>30</td>\n",
       "      <td>share american eagl plung compani issu weak ho...</td>\n",
       "      <td>1</td>\n",
       "      <td>76.360001</td>\n",
       "      <td>76.360001</td>\n",
       "      <td>76.680000</td>\n",
       "      <td>76.059998</td>\n",
       "      <td>76.339996</td>\n",
       "      <td>3908643</td>\n",
       "    </tr>\n",
       "    <tr>\n",
       "      <th>...</th>\n",
       "      <td>...</td>\n",
       "      <td>...</td>\n",
       "      <td>...</td>\n",
       "      <td>...</td>\n",
       "      <td>...</td>\n",
       "      <td>...</td>\n",
       "      <td>...</td>\n",
       "      <td>...</td>\n",
       "      <td>...</td>\n",
       "      <td>...</td>\n",
       "    </tr>\n",
       "    <tr>\n",
       "      <th>1706</th>\n",
       "      <td>2024-11-14</td>\n",
       "      <td>0</td>\n",
       "      <td>loss swiggi intraday normal capit suck downani...</td>\n",
       "      <td>1</td>\n",
       "      <td>78.739998</td>\n",
       "      <td>78.739998</td>\n",
       "      <td>79.540001</td>\n",
       "      <td>77.320000</td>\n",
       "      <td>77.620003</td>\n",
       "      <td>5027775</td>\n",
       "    </tr>\n",
       "    <tr>\n",
       "      <th>1707</th>\n",
       "      <td>2024-11-14</td>\n",
       "      <td>1</td>\n",
       "      <td>anyon know smart money concept</td>\n",
       "      <td>1</td>\n",
       "      <td>78.739998</td>\n",
       "      <td>78.739998</td>\n",
       "      <td>79.540001</td>\n",
       "      <td>77.320000</td>\n",
       "      <td>77.620003</td>\n",
       "      <td>5027775</td>\n",
       "    </tr>\n",
       "    <tr>\n",
       "      <th>1708</th>\n",
       "      <td>2024-11-14</td>\n",
       "      <td>2</td>\n",
       "      <td>jubil industri ltd aka jublind</td>\n",
       "      <td>0</td>\n",
       "      <td>78.739998</td>\n",
       "      <td>78.739998</td>\n",
       "      <td>79.540001</td>\n",
       "      <td>77.320000</td>\n",
       "      <td>77.620003</td>\n",
       "      <td>5027775</td>\n",
       "    </tr>\n",
       "    <tr>\n",
       "      <th>1709</th>\n",
       "      <td>2024-11-14</td>\n",
       "      <td>0</td>\n",
       "      <td>detail analysi nifti basi demand suppli</td>\n",
       "      <td>0</td>\n",
       "      <td>78.739998</td>\n",
       "      <td>78.739998</td>\n",
       "      <td>79.540001</td>\n",
       "      <td>77.320000</td>\n",
       "      <td>77.620003</td>\n",
       "      <td>5027775</td>\n",
       "    </tr>\n",
       "    <tr>\n",
       "      <th>1710</th>\n",
       "      <td>2024-11-14</td>\n",
       "      <td>0</td>\n",
       "      <td>stock select</td>\n",
       "      <td>0</td>\n",
       "      <td>78.739998</td>\n",
       "      <td>78.739998</td>\n",
       "      <td>79.540001</td>\n",
       "      <td>77.320000</td>\n",
       "      <td>77.620003</td>\n",
       "      <td>5027775</td>\n",
       "    </tr>\n",
       "  </tbody>\n",
       "</table>\n",
       "<p>1711 rows × 10 columns</p>\n",
       "</div>"
      ],
      "text/plain": [
       "           Date  score                                           Headline  \\\n",
       "0    2024-12-04    304         meta announc billion data center louisiana   \n",
       "1    2024-12-04    316  guy believ begin great melt recess come somewh...   \n",
       "2    2024-12-04    124  intel ceo shakeup put foundri plan chip act ca...   \n",
       "3    2024-12-04    208  amazon su dc attorney gener allegedli exclud n...   \n",
       "4    2024-12-04     30  share american eagl plung compani issu weak ho...   \n",
       "...         ...    ...                                                ...   \n",
       "1706 2024-11-14      0  loss swiggi intraday normal capit suck downani...   \n",
       "1707 2024-11-14      1                     anyon know smart money concept   \n",
       "1708 2024-11-14      2                     jubil industri ltd aka jublind   \n",
       "1709 2024-11-14      0            detail analysi nifti basi demand suppli   \n",
       "1710 2024-11-14      0                                       stock select   \n",
       "\n",
       "      Sentiment  Adj Close_NESN.SW  Close_NESN.SW  High_NESN.SW  Low_NESN.SW  \\\n",
       "0             1          76.360001      76.360001     76.680000    76.059998   \n",
       "1             0          76.360001      76.360001     76.680000    76.059998   \n",
       "2             1          76.360001      76.360001     76.680000    76.059998   \n",
       "3             1          76.360001      76.360001     76.680000    76.059998   \n",
       "4             1          76.360001      76.360001     76.680000    76.059998   \n",
       "...         ...                ...            ...           ...          ...   \n",
       "1706          1          78.739998      78.739998     79.540001    77.320000   \n",
       "1707          1          78.739998      78.739998     79.540001    77.320000   \n",
       "1708          0          78.739998      78.739998     79.540001    77.320000   \n",
       "1709          0          78.739998      78.739998     79.540001    77.320000   \n",
       "1710          0          78.739998      78.739998     79.540001    77.320000   \n",
       "\n",
       "      Open_NESN.SW  Volume_NESN.SW  \n",
       "0        76.339996         3908643  \n",
       "1        76.339996         3908643  \n",
       "2        76.339996         3908643  \n",
       "3        76.339996         3908643  \n",
       "4        76.339996         3908643  \n",
       "...            ...             ...  \n",
       "1706     77.620003         5027775  \n",
       "1707     77.620003         5027775  \n",
       "1708     77.620003         5027775  \n",
       "1709     77.620003         5027775  \n",
       "1710     77.620003         5027775  \n",
       "\n",
       "[1711 rows x 10 columns]"
      ]
     },
     "execution_count": 177,
     "metadata": {},
     "output_type": "execute_result"
    }
   ],
   "source": [
    "merged_data"
   ]
  },
  {
   "cell_type": "markdown",
   "id": "c035cbee",
   "metadata": {},
   "source": [
    "# TF-IDF Vectorization"
   ]
  },
  {
   "cell_type": "code",
   "execution_count": 178,
   "id": "1273f63b",
   "metadata": {},
   "outputs": [],
   "source": [
    "\n",
    "vectorizer = TfidfVectorizer(max_features=5000)\n",
    "X = vectorizer.fit_transform(merged_data['Headline'])\n",
    "y = merged_data['Sentiment']\n",
    "# Labels (sentiment)\n",
    "\n"
   ]
  },
  {
   "cell_type": "code",
   "execution_count": 179,
   "id": "05f8d35d",
   "metadata": {},
   "outputs": [],
   "source": [
    "from sklearn.linear_model import LogisticRegression"
   ]
  },
  {
   "cell_type": "code",
   "execution_count": 180,
   "id": "6c12a184",
   "metadata": {},
   "outputs": [],
   "source": [
    "from sklearn.model_selection import train_test_split"
   ]
  },
  {
   "cell_type": "markdown",
   "id": "95e828c5",
   "metadata": {},
   "source": [
    "# Train Test Data"
   ]
  },
  {
   "cell_type": "code",
   "execution_count": 181,
   "id": "f6b40a6a",
   "metadata": {},
   "outputs": [],
   "source": [
    "X_train, X_test, y_train, y_test = train_test_split(X, y, test_size=0.2, random_state=42)\n"
   ]
  },
  {
   "cell_type": "markdown",
   "id": "50a25a95",
   "metadata": {},
   "source": [
    "# Logistic Regression"
   ]
  },
  {
   "cell_type": "markdown",
   "id": "efbbd5be",
   "metadata": {},
   "source": [
    "# Lasso"
   ]
  },
  {
   "cell_type": "code",
   "execution_count": 182,
   "id": "96101682",
   "metadata": {},
   "outputs": [],
   "source": [
    "model = LogisticRegression(solver=\"saga\", penalty=\"l2\")\n",
    "model = model.fit(X_train, y_train)\n",
    "# Get test predictions\n",
    "y_pred = model.predict(X_test)\n"
   ]
  },
  {
   "cell_type": "code",
   "execution_count": 183,
   "id": "b752265c",
   "metadata": {},
   "outputs": [],
   "source": [
    "from sklearn.metrics import accuracy_score, classification_report"
   ]
  },
  {
   "cell_type": "code",
   "execution_count": 184,
   "id": "67b358bd",
   "metadata": {},
   "outputs": [],
   "source": [
    "from sklearn import metrics"
   ]
  },
  {
   "cell_type": "code",
   "execution_count": 185,
   "id": "05c1e3b5",
   "metadata": {},
   "outputs": [
    {
     "name": "stdout",
     "output_type": "stream",
     "text": [
      "Logic Regression accuracy:  0.5451895043731778\n"
     ]
    },
    {
     "data": {
      "text/plain": [
       "array([[89, 89],\n",
       "       [67, 98]])"
      ]
     },
     "execution_count": 185,
     "metadata": {},
     "output_type": "execute_result"
    }
   ],
   "source": [
    "acc = accuracy_score(y_test, y_pred)\n",
    "print('Logic Regression accuracy: ', acc)\n",
    "confusion_matrix(y_test, y_pred)"
   ]
  },
  {
   "cell_type": "code",
   "execution_count": 186,
   "id": "21c6511a",
   "metadata": {},
   "outputs": [
    {
     "name": "stdout",
     "output_type": "stream",
     "text": [
      "Classification Report:\n",
      "              precision    recall  f1-score   support\n",
      "\n",
      "           0       0.57      0.50      0.53       178\n",
      "           1       0.52      0.59      0.56       165\n",
      "\n",
      "    accuracy                           0.55       343\n",
      "   macro avg       0.55      0.55      0.54       343\n",
      "weighted avg       0.55      0.55      0.54       343\n",
      "\n"
     ]
    }
   ],
   "source": [
    "# Classification Report\n",
    "print(\"Classification Report:\")\n",
    "print(classification_report(y_test, y_pred))\n"
   ]
  },
  {
   "cell_type": "code",
   "execution_count": 187,
   "id": "908164f8",
   "metadata": {},
   "outputs": [
    {
     "data": {
      "image/png": "[encoded data removed]",
      "text/plain": [
       "<Figure size 432x288 with 2 Axes>"
      ]
     },
     "metadata": {
      "needs_background": "light"
     },
     "output_type": "display_data"
    }
   ],
   "source": [
    "\n",
    "\n",
    "import matplotlib.pyplot as plt\n",
    "from sklearn.metrics import ConfusionMatrixDisplay\n",
    "\n",
    "ConfusionMatrixDisplay.from_estimator(model, X_test, y_test)\n",
    "plt.xticks(rotation=90)\n",
    "plt.show()\n"
   ]
  },
  {
   "cell_type": "markdown",
   "id": "c84ca741",
   "metadata": {},
   "source": [
    "# Ridge regression"
   ]
  },
  {
   "cell_type": "code",
   "execution_count": 188,
   "id": "257cb508",
   "metadata": {},
   "outputs": [],
   "source": [
    "model = LogisticRegression(solver=\"saga\", penalty=\"l1\")\n",
    "model = model.fit(X_train, y_train)\n",
    "# Get test predictions\n",
    "y_pred = model.predict(X_test)"
   ]
  },
  {
   "cell_type": "code",
   "execution_count": 189,
   "id": "1876449e",
   "metadata": {},
   "outputs": [
    {
     "name": "stdout",
     "output_type": "stream",
     "text": [
      "Logic Regression accuracy:  0.478134110787172\n",
      "confusion matrix:\n",
      " [[ 40 138]\n",
      " [ 41 124]]\n"
     ]
    }
   ],
   "source": [
    "acc = accuracy_score(y_test, y_pred)\n",
    "print('Logic Regression accuracy: ', acc)\n",
    "confusion_matrix(y_test, y_pred)\n",
    "print(\"confusion matrix:\\n {}\".format(confusion_matrix(y_test, y_pred)))"
   ]
  },
  {
   "cell_type": "code",
   "execution_count": 190,
   "id": "e4693105",
   "metadata": {},
   "outputs": [
    {
     "name": "stdout",
     "output_type": "stream",
     "text": [
      "Accuracy score is : 0.478134110787172\n",
      "Precision score is : 0.4839441330068115\n",
      "Recall score is : 0.478134110787172\n",
      "\t\tClassification Report:\n",
      "               precision    recall  f1-score   support\n",
      "\n",
      "           0       0.49      0.22      0.31       178\n",
      "           1       0.47      0.75      0.58       165\n",
      "\n",
      "    accuracy                           0.48       343\n",
      "   macro avg       0.48      0.49      0.44       343\n",
      "weighted avg       0.48      0.48      0.44       343\n",
      "\n"
     ]
    }
   ],
   "source": [
    "print('Accuracy score is :', metrics.accuracy_score(y_test, y_pred))\n",
    "print('Precision score is :', metrics.precision_score(y_test, y_pred, average='weighted'))\n",
    "print('Recall score is :', metrics.recall_score(y_test, y_pred, average='weighted'))\n",
    "print('\\t\\tClassification Report:\\n', metrics.classification_report(y_test, y_pred))"
   ]
  },
  {
   "cell_type": "code",
   "execution_count": 191,
   "id": "64024d31",
   "metadata": {},
   "outputs": [
    {
     "data": {
      "image/png": "[encoded data removed]",
      "text/plain": [
       "<Figure size 432x288 with 2 Axes>"
      ]
     },
     "metadata": {
      "needs_background": "light"
     },
     "output_type": "display_data"
    }
   ],
   "source": [
    "ConfusionMatrixDisplay.from_estimator(model, X_test, y_test)\n",
    "plt.xticks(rotation=90)\n",
    "plt.show()\n"
   ]
  },
  {
   "cell_type": "markdown",
   "id": "fe51ecb2",
   "metadata": {},
   "source": [
    "# Model evaluation using improvement matrix"
   ]
  },
  {
   "cell_type": "code",
   "execution_count": 192,
   "id": "fb91b509",
   "metadata": {},
   "outputs": [
    {
     "data": {
      "text/plain": [
       "array([[ 40, 138],\n",
       "       [ 41, 124]])"
      ]
     },
     "execution_count": 192,
     "metadata": {},
     "output_type": "execute_result"
    }
   ],
   "source": [
    "# import the metrics class\n",
    "from sklearn import metrics\n",
    "con_matrix = metrics.confusion_matrix(y_test, y_pred)\n",
    "con_matrix"
   ]
  },
  {
   "cell_type": "code",
   "execution_count": 193,
   "id": "4a193ce7",
   "metadata": {},
   "outputs": [],
   "source": [
    "# import required modules\n",
    "import numpy as np\n",
    "import matplotlib.pyplot as plt\n",
    "import seaborn as sns\n",
    "%matplotlib inline"
   ]
  },
  {
   "cell_type": "code",
   "execution_count": 194,
   "id": "d26580a0",
   "metadata": {
    "scrolled": true
   },
   "outputs": [
    {
     "name": "stdout",
     "output_type": "stream",
     "text": [
      "Accuracy score is : 0.478134110787172\n",
      "Precision score is : 0.4839441330068115\n",
      "Recall score is : 0.478134110787172\n",
      "\t\tClassification Report:\n",
      "               precision    recall  f1-score   support\n",
      "\n",
      "           0       0.49      0.22      0.31       178\n",
      "           1       0.47      0.75      0.58       165\n",
      "\n",
      "    accuracy                           0.48       343\n",
      "   macro avg       0.48      0.49      0.44       343\n",
      "weighted avg       0.48      0.48      0.44       343\n",
      "\n"
     ]
    }
   ],
   "source": [
    "print('Accuracy score is :', metrics.accuracy_score(y_test, y_pred))\n",
    "print('Precision score is :', metrics.precision_score(y_test, y_pred, average='weighted'))\n",
    "print('Recall score is :', metrics.recall_score(y_test, y_pred, average='weighted'))\n",
    "print('\\t\\tClassification Report:\\n', metrics.classification_report(y_test, y_pred))"
   ]
  },
  {
   "cell_type": "code",
   "execution_count": 195,
   "id": "2f204459",
   "metadata": {},
   "outputs": [
    {
     "data": {
      "text/plain": [
       "Text(0.5, 257.44, 'Predicted label')"
      ]
     },
     "execution_count": 195,
     "metadata": {},
     "output_type": "execute_result"
    },
    {
     "data": {
      "image/png": "[encoded data removed]",
      "text/plain": [
       "<Figure size 432x288 with 2 Axes>"
      ]
     },
     "metadata": {
      "needs_background": "light"
     },
     "output_type": "display_data"
    }
   ],
   "source": [
    "class_names=[0,1] # name  of classes\n",
    "fig, ax = plt.subplots()\n",
    "tick_marks = np.arange(len(class_names))\n",
    "plt.xticks(tick_marks, class_names)\n",
    "plt.yticks(tick_marks, class_names)\n",
    "# create heatmap\n",
    "sns.heatmap(pd.DataFrame(con_matrix), annot=True, cmap=\"GnBu\" ,fmt='g')\n",
    "ax.xaxis.set_label_position(\"top\")\n",
    "plt.tight_layout()\n",
    "plt.title('Confusion matrix', y=1.1)\n",
    "plt.ylabel('Actual label')\n",
    "plt.xlabel('Predicted label')"
   ]
  },
  {
   "cell_type": "markdown",
   "id": "ecc2d3fc",
   "metadata": {},
   "source": [
    "# Testing the model 1 (Logistic Regression)"
   ]
  },
  {
   "cell_type": "code",
   "execution_count": 196,
   "id": "467918c1",
   "metadata": {},
   "outputs": [
    {
     "name": "stdout",
     "output_type": "stream",
     "text": [
      "Accuracy score is : 0.478134110787172\n",
      "Precision score is : 0.4839441330068115\n",
      "Recall score is : 0.478134110787172\n",
      "\t\tClassification Report:\n",
      "               precision    recall  f1-score   support\n",
      "\n",
      "           0       0.49      0.22      0.31       178\n",
      "           1       0.47      0.75      0.58       165\n",
      "\n",
      "    accuracy                           0.48       343\n",
      "   macro avg       0.48      0.49      0.44       343\n",
      "weighted avg       0.48      0.48      0.44       343\n",
      "\n"
     ]
    }
   ],
   "source": [
    "from sklearn import metrics\n",
    "print('Accuracy score is :', metrics.accuracy_score(y_test, y_pred))\n",
    "print('Precision score is :', metrics.precision_score(y_test, y_pred, average='weighted'))\n",
    "print('Recall score is :', metrics.recall_score(y_test, y_pred, average='weighted'))\n",
    "print('\\t\\tClassification Report:\\n', metrics.classification_report(y_test, y_pred))"
   ]
  },
  {
   "cell_type": "markdown",
   "id": "ccfe7371",
   "metadata": {},
   "source": [
    "# Random Forest"
   ]
  },
  {
   "cell_type": "code",
   "execution_count": 197,
   "id": "d96c7490",
   "metadata": {},
   "outputs": [],
   "source": [
    "from sklearn.ensemble import RandomForestClassifier\n"
   ]
  },
  {
   "cell_type": "code",
   "execution_count": 198,
   "id": "326d504d",
   "metadata": {},
   "outputs": [],
   "source": [
    "from sklearn.metrics import accuracy_score, confusion_matrix"
   ]
  },
  {
   "cell_type": "code",
   "execution_count": 199,
   "id": "6b05cfe0",
   "metadata": {},
   "outputs": [],
   "source": [
    "random_forest = RandomForestClassifier(n_estimators=100)\n",
    "random_forest.fit(X_train, y_train)\n",
    "Y_pred = random_forest.predict(X_test)"
   ]
  },
  {
   "cell_type": "code",
   "execution_count": 200,
   "id": "79a54337",
   "metadata": {},
   "outputs": [
    {
     "name": "stdout",
     "output_type": "stream",
     "text": [
      "Random Forest\n",
      "\n",
      "confusion matrix:\n",
      " [[97 81]\n",
      " [71 94]]\n",
      "\n",
      "\n",
      "accuracy: 0.5568513119533528\n"
     ]
    }
   ],
   "source": [
    "print(\"Random Forest\\n\")\n",
    "print(\"confusion matrix:\\n {}\".format(confusion_matrix(y_test, Y_pred)))\n",
    "print(\"\\n\\naccuracy: {}\".format(accuracy_score(y_test, Y_pred)))"
   ]
  },
  {
   "cell_type": "code",
   "execution_count": 201,
   "id": "67a1de3a",
   "metadata": {},
   "outputs": [
    {
     "name": "stdout",
     "output_type": "stream",
     "text": [
      "Accuracy score is : 0.478134110787172\n",
      "Precision score is : 0.4839441330068115\n",
      "Recall score is : 0.478134110787172\n",
      "\t\tClassification Report:\n",
      "               precision    recall  f1-score   support\n",
      "\n",
      "           0       0.49      0.22      0.31       178\n",
      "           1       0.47      0.75      0.58       165\n",
      "\n",
      "    accuracy                           0.48       343\n",
      "   macro avg       0.48      0.49      0.44       343\n",
      "weighted avg       0.48      0.48      0.44       343\n",
      "\n"
     ]
    }
   ],
   "source": [
    "print('Accuracy score is :', metrics.accuracy_score(y_test, y_pred))\n",
    "print('Precision score is :', metrics.precision_score(y_test, y_pred, average='weighted'))\n",
    "print('Recall score is :', metrics.recall_score(y_test, y_pred, average='weighted'))\n",
    "print('\\t\\tClassification Report:\\n', metrics.classification_report(y_test, y_pred))"
   ]
  },
  {
   "cell_type": "markdown",
   "id": "c12ed5c0",
   "metadata": {},
   "source": [
    "# Ridge random forest"
   ]
  },
  {
   "cell_type": "code",
   "execution_count": 202,
   "id": "6405be14",
   "metadata": {},
   "outputs": [],
   "source": [
    "random_forest = RandomForestClassifier(n_estimators=1000)\n",
    "random_forest.fit(X_train, y_train)\n",
    "Y_pred = random_forest.predict(X_test)"
   ]
  },
  {
   "cell_type": "code",
   "execution_count": 203,
   "id": "b3cb8296",
   "metadata": {},
   "outputs": [
    {
     "name": "stdout",
     "output_type": "stream",
     "text": [
      "Random Forest\n",
      "\n",
      "confusion matrix:\n",
      " [[100  78]\n",
      " [ 72  93]]\n",
      "\n",
      "\n",
      "accuracy: 0.5626822157434402\n"
     ]
    }
   ],
   "source": [
    "print(\"Random Forest\\n\")\n",
    "print(\"confusion matrix:\\n {}\".format(confusion_matrix(y_test, Y_pred)))\n",
    "print(\"\\n\\naccuracy: {}\".format(accuracy_score(y_test, Y_pred)))"
   ]
  },
  {
   "cell_type": "code",
   "execution_count": 204,
   "id": "41ad61f4",
   "metadata": {},
   "outputs": [
    {
     "name": "stdout",
     "output_type": "stream",
     "text": [
      "Accuracy score is : 0.478134110787172\n",
      "Precision score is : 0.4839441330068115\n",
      "Recall score is : 0.478134110787172\n",
      "\t\tClassification Report:\n",
      "               precision    recall  f1-score   support\n",
      "\n",
      "           0       0.49      0.22      0.31       178\n",
      "           1       0.47      0.75      0.58       165\n",
      "\n",
      "    accuracy                           0.48       343\n",
      "   macro avg       0.48      0.49      0.44       343\n",
      "weighted avg       0.48      0.48      0.44       343\n",
      "\n"
     ]
    }
   ],
   "source": [
    "print('Accuracy score is :', metrics.accuracy_score(y_test, y_pred))\n",
    "print('Precision score is :', metrics.precision_score(y_test, y_pred, average='weighted'))\n",
    "print('Recall score is :', metrics.recall_score(y_test, y_pred, average='weighted'))\n",
    "print('\\t\\tClassification Report:\\n', metrics.classification_report(y_test, y_pred))"
   ]
  },
  {
   "cell_type": "markdown",
   "id": "7a3bf998",
   "metadata": {},
   "source": [
    "# Model evaluation using improvement matrix"
   ]
  },
  {
   "cell_type": "code",
   "execution_count": 205,
   "id": "7a529b81",
   "metadata": {},
   "outputs": [
    {
     "data": {
      "text/plain": [
       "array([[100,  78],\n",
       "       [ 72,  93]])"
      ]
     },
     "execution_count": 205,
     "metadata": {},
     "output_type": "execute_result"
    }
   ],
   "source": [
    "# import the metrics class\n",
    "from sklearn import metrics\n",
    "cof_matrix = metrics.confusion_matrix(y_test, Y_pred)\n",
    "cof_matrix\n",
    "\n",
    "\n"
   ]
  },
  {
   "cell_type": "markdown",
   "id": "7db66f40",
   "metadata": {},
   "source": [
    "# Visualization"
   ]
  },
  {
   "cell_type": "code",
   "execution_count": 206,
   "id": "d1517ff5",
   "metadata": {},
   "outputs": [
    {
     "data": {
      "text/plain": [
       "Text(0.5, 257.44, 'Predicted label')"
      ]
     },
     "execution_count": 206,
     "metadata": {},
     "output_type": "execute_result"
    },
    {
     "data": {
      "image/png": "[encoded data removed]",
      "text/plain": [
       "<Figure size 432x288 with 2 Axes>"
      ]
     },
     "metadata": {
      "needs_background": "light"
     },
     "output_type": "display_data"
    }
   ],
   "source": [
    "\n",
    "class_names=[0,1] # name  of classes\n",
    "fig, ax = plt.subplots()\n",
    "tick_marks = np.arange(len(class_names))\n",
    "plt.xticks(tick_marks, class_names)\n",
    "plt.yticks(tick_marks, class_names)\n",
    "# create heatmap\n",
    "sns.heatmap(pd.DataFrame(cof_matrix), annot=True, cmap=\"RdPu\" ,fmt='g')\n",
    "ax.xaxis.set_label_position(\"top\")\n",
    "plt.tight_layout()\n",
    "plt.title('Confusion matrix', y=1.1)\n",
    "plt.ylabel('Actual label')\n",
    "plt.xlabel('Predicted label')\n"
   ]
  },
  {
   "cell_type": "markdown",
   "id": "1c042045",
   "metadata": {},
   "source": [
    "# Testing the model 2 (Random Forest)\n"
   ]
  },
  {
   "cell_type": "code",
   "execution_count": 207,
   "id": "aa540791",
   "metadata": {},
   "outputs": [
    {
     "name": "stdout",
     "output_type": "stream",
     "text": [
      "Accuracy score is : 0.5626822157434402\n",
      "Precision score is : 0.5633388169046252\n",
      "Recall score is : 0.5626822157434402\n",
      "\t\tClassification Report:\n",
      "               precision    recall  f1-score   support\n",
      "\n",
      "           0       0.58      0.56      0.57       178\n",
      "           1       0.54      0.56      0.55       165\n",
      "\n",
      "    accuracy                           0.56       343\n",
      "   macro avg       0.56      0.56      0.56       343\n",
      "weighted avg       0.56      0.56      0.56       343\n",
      "\n"
     ]
    }
   ],
   "source": [
    "from sklearn import metrics\n",
    "print('Accuracy score is :', metrics.accuracy_score(y_test, Y_pred))\n",
    "print('Precision score is :', metrics.precision_score(y_test, Y_pred, average='weighted'))\n",
    "print('Recall score is :', metrics.recall_score(y_test, Y_pred, average='weighted'))\n",
    "print('\\t\\tClassification Report:\\n', metrics.classification_report(y_test, Y_pred))"
   ]
  },
  {
   "cell_type": "code",
   "execution_count": null,
   "id": "26dafb66",
   "metadata": {},
   "outputs": [],
   "source": []
  }
 ],
 "metadata": {
  "kernelspec": {
   "display_name": "Python 3 (ipykernel)",
   "language": "python",
   "name": "python3"
  },
  "language_info": {
   "codemirror_mode": {
    "name": "ipython",
    "version": 3
   },
   "file_extension": ".py",
   "mimetype": "text/x-python",
   "name": "python",
   "nbconvert_exporter": "python",
   "pygments_lexer": "ipython3",
   "version": "3.9.7"
  }
 },
 "nbformat": 4,
 "nbformat_minor": 5
}
